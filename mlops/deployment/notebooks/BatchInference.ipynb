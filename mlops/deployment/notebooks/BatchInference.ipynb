{
 "cells": [
  {
   "cell_type": "code",
   "execution_count": 0,
   "metadata": {
    "application/vnd.databricks.v1+cell": {
     "cellMetadata": {
      "byteLimit": 2048000,
      "rowLimit": 10000
     },
     "inputWidgets": {},
     "nuid": "ae35efaf-0721-440c-a65c-1dfffa128dcc",
     "showTitle": false,
     "tableResultSettingsMap": {},
     "title": ""
    }
   },
   "outputs": [],
   "source": [
    "dbutils.widgets.text(\"input_path\", \"/Workspace//Users/rm360824@fiap.com.br/PosTechChallenge3/dados/CarFeatures.csv\", label=\"Input CSV\")\n",
    "dbutils.widgets.text(\"output_path\", \"/Workspace//Users/rm360824@fiap.com.br/PosTechChallenge3/dados/CarFeatures_Predictions.csv\", label=\"Output CSV\")\n",
    "dbutils.widgets.text(\"model_name\", \"car_features_model\", label=\"Model Name\")\n",
    "\n",
    "input_path = dbutils.widgets.get(\"input_path\")\n",
    "output_path = dbutils.widgets.get(\"output_path\")\n",
    "model_name = dbutils.widgets.get(\"model_name\")"
   ]
  },
  {
   "cell_type": "code",
   "execution_count": 0,
   "metadata": {
    "application/vnd.databricks.v1+cell": {
     "cellMetadata": {
      "byteLimit": 2048000,
      "rowLimit": 10000
     },
     "inputWidgets": {},
     "nuid": "9921d3ff-661d-402e-87f7-83438cce1732",
     "showTitle": false,
     "tableResultSettingsMap": {},
     "title": ""
    }
   },
   "outputs": [],
   "source": [
    "from mlflow.tracking import MlflowClient\n",
    "\n",
    "client = MlflowClient()\n",
    "latest = client.get_latest_versions(model_name, stages=[\"None\"])\n",
    "model_version = latest[0].version\n",
    "model_uri = f\"models:/{model_name}/{model_version}\""
   ]
  },
  {
   "cell_type": "code",
   "execution_count": 0,
   "metadata": {
    "application/vnd.databricks.v1+cell": {
     "cellMetadata": {
      "byteLimit": 2048000,
      "rowLimit": 10000
     },
     "inputWidgets": {},
     "nuid": "8927576d-3924-4adc-9cca-60da0018574c",
     "showTitle": false,
     "tableResultSettingsMap": {},
     "title": ""
    }
   },
   "outputs": [],
   "source": [
    "import sys, os\n",
    "\n",
    "current_dir = os.path.dirname(os.path.abspath(__file__)) if \"__file__\" in globals() else os.getcwd()\n",
    "deployment_path = os.path.join(current_dir, \"..\")\n",
    "sys.path.append(deployment_path)"
   ]
  },
  {
   "cell_type": "code",
   "execution_count": 0,
   "metadata": {
    "application/vnd.databricks.v1+cell": {
     "cellMetadata": {
      "byteLimit": 2048000,
      "rowLimit": 10000
     },
     "inputWidgets": {},
     "nuid": "747283e7-172d-4b42-863b-a9b7f156c4a4",
     "showTitle": false,
     "tableResultSettingsMap": {},
     "title": ""
    }
   },
   "outputs": [],
   "source": [
    "from predict import predict_batch\n",
    "\n",
    "predict_batch(model_uri, input_path, output_path, model_version)\n",
    "\n",
    "dbutils.notebook.exit(output_path)"
   ]
  }
 ],
 "metadata": {
  "application/vnd.databricks.v1+notebook": {
   "computePreferences": null,
   "dashboards": [],
   "environmentMetadata": {
    "base_environment": "",
    "environment_version": "3"
   },
   "inputWidgetPreferences": null,
   "language": "python",
   "notebookMetadata": {
    "pythonIndentUnit": 4
   },
   "notebookName": "BatchInference",
   "widgets": {
    "input_path": {
     "currentValue": "/Workspace//Users/rm360824@fiap.com.br/PosTechChallenge3/dados/CarFeatures.csv",
     "nuid": "c81b9c0f-ceb0-4412-9123-37a372f5dc0b",
     "typedWidgetInfo": {
      "autoCreated": false,
      "defaultValue": "/Workspace//Users/rm360824@fiap.com.br/PosTechChallenge3/dados/CarFeatures.csv",
      "label": "Input CSV",
      "name": "input_path",
      "options": {
       "widgetDisplayType": "Text",
       "validationRegex": null
      },
      "parameterDataType": "String"
     },
     "widgetInfo": {
      "widgetType": "text",
      "defaultValue": "/Workspace//Users/rm360824@fiap.com.br/PosTechChallenge3/dados/CarFeatures.csv",
      "label": "Input CSV",
      "name": "input_path",
      "options": {
       "widgetType": "text",
       "autoCreated": false,
       "validationRegex": null
      }
     }
    },
    "model_name": {
     "currentValue": "car_features_model",
     "nuid": "8fbc4ac6-7184-402f-9ecf-882e74d19dea",
     "typedWidgetInfo": {
      "autoCreated": false,
      "defaultValue": "car_features_model",
      "label": "Model Name",
      "name": "model_name",
      "options": {
       "widgetDisplayType": "Text",
       "validationRegex": null
      },
      "parameterDataType": "String"
     },
     "widgetInfo": {
      "widgetType": "text",
      "defaultValue": "car_features_model",
      "label": "Model Name",
      "name": "model_name",
      "options": {
       "widgetType": "text",
       "autoCreated": false,
       "validationRegex": null
      }
     }
    },
    "output_path": {
     "currentValue": "/Workspace//Users/rm360824@fiap.com.br/PosTechChallenge3/dados/CarFeatures_Predictions.csv",
     "nuid": "e63dad4a-a929-4196-9e1f-9e6477aa0b75",
     "typedWidgetInfo": {
      "autoCreated": false,
      "defaultValue": "/Workspace//Users/rm360824@fiap.com.br/PosTechChallenge3/dados/CarFeatures_Predictions.csv",
      "label": "Output CSV",
      "name": "output_path",
      "options": {
       "widgetDisplayType": "Text",
       "validationRegex": null
      },
      "parameterDataType": "String"
     },
     "widgetInfo": {
      "widgetType": "text",
      "defaultValue": "/Workspace//Users/rm360824@fiap.com.br/PosTechChallenge3/dados/CarFeatures_Predictions.csv",
      "label": "Output CSV",
      "name": "output_path",
      "options": {
       "widgetType": "text",
       "autoCreated": false,
       "validationRegex": null
      }
     }
    }
   }
  },
  "language_info": {
   "name": "python"
  }
 },
 "nbformat": 4,
 "nbformat_minor": 0
}
