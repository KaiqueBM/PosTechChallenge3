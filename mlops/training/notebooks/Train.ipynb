{
 "cells": [
  {
   "cell_type": "code",
   "execution_count": 0,
   "metadata": {
    "application/vnd.databricks.v1+cell": {
     "cellMetadata": {
      "byteLimit": 2048000,
      "rowLimit": 10000
     },
     "inputWidgets": {},
     "nuid": "affb1b0b-4baa-4844-b415-7c3656b0d93c",
     "showTitle": false,
     "tableResultSettingsMap": {},
     "title": ""
    }
   },
   "outputs": [],
   "source": [
    "import pandas as pd\n",
    "import numpy as np\n",
    "\n",
    "import mlflow\n",
    "import mlflow.sklearn\n",
    "from mlflow.tracking import MlflowClient\n",
    "\n",
    "from sklearn.model_selection import train_test_split\n",
    "from sklearn.preprocessing import OneHotEncoder, StandardScaler\n",
    "from sklearn.compose import ColumnTransformer\n",
    "from sklearn.pipeline import Pipeline\n",
    "from sklearn.ensemble import RandomForestRegressor\n",
    "from sklearn.multioutput import MultiOutputRegressor\n",
    "from sklearn.metrics import mean_absolute_error, mean_squared_error, r2_score"
   ]
  },
  {
   "cell_type": "code",
   "execution_count": 0,
   "metadata": {
    "application/vnd.databricks.v1+cell": {
     "cellMetadata": {
      "byteLimit": 2048000,
      "rowLimit": 10000
     },
     "inputWidgets": {},
     "nuid": "491e37e7-c815-41ff-a86d-40dddb7a1301",
     "showTitle": false,
     "tableResultSettingsMap": {},
     "title": ""
    }
   },
   "outputs": [],
   "source": [
    "default_table = \"postech_ml.car_features\"\n",
    "\n",
    "dbutils.widgets.text(\"training_dataset\", default_table, label=\"Training Dataset\")\n",
    "dbutils.widgets.text(\"experiment_name\", \"/dev-mlops-experiment\", label=\"MLflow Experiment Name\")\n",
    "dbutils.widgets.text(\"model_name\", \"car_features_model\", label=\"Model Name\")\n",
    "\n",
    "training_dataset = dbutils.widgets.get(\"training_dataset\")\n",
    "experiment_name = dbutils.widgets.get(\"experiment_name\")\n",
    "model_name = dbutils.widgets.get(\"model_name\")\n",
    "\n",
    "mlflow.set_experiment(experiment_name)"
   ]
  },
  {
   "cell_type": "code",
   "execution_count": 0,
   "metadata": {
    "application/vnd.databricks.v1+cell": {
     "cellMetadata": {
      "byteLimit": 2048000,
      "rowLimit": 10000
     },
     "inputWidgets": {},
     "nuid": "cd6a14e9-ffc0-441c-8ab4-723d4cf4425d",
     "showTitle": false,
     "tableResultSettingsMap": {},
     "title": ""
    }
   },
   "outputs": [],
   "source": [
    "# Leitura do dataset de treino\n",
    "df_raw = spark.read.table(training_dataset)\n",
    "df = df_raw.toPandas()\n",
    "\n",
    "# Tratamentos\n",
    "df[\"engine_fuel_type\"].fillna(\"Unknown\", inplace=True)\n",
    "df[\"engine_hp\"].fillna(df[\"engine_hp\"].median(), inplace=True)\n",
    "df[\"engine_cylinders\"].fillna(df[\"engine_cylinders\"].median(), inplace=True)\n",
    "df[\"number_of_doors\"].fillna(df[\"number_of_doors\"].mode()[0], inplace=True)\n",
    "df[\"market_category\"].fillna(\"Unknown\", inplace=True)\n",
    "df = df.drop_duplicates()\n",
    "\n",
    "# Features e Targets\n",
    "X = df.drop(columns=[\"msrp\", \"city_mpg\", \"highway_mpg\"])\n",
    "y = df[[\"msrp\", \"city_mpg\", \"highway_mpg\"]]\n",
    "\n",
    "num_features = [\"engine_hp\", \"engine_cylinders\", \"popularity\", \"year\", \"number_of_doors\"]\n",
    "cat_features = [col for col in X.columns if col not in num_features]\n",
    "\n",
    "num_transformer = StandardScaler()\n",
    "cat_transformer = OneHotEncoder(handle_unknown=\"ignore\", sparse_output=False)\n",
    "\n",
    "preprocessor = ColumnTransformer(\n",
    "    transformers=[\n",
    "        (\"num\", num_transformer, num_features),\n",
    "        (\"cat\", cat_transformer, cat_features)\n",
    "    ]\n",
    ")\n",
    "\n",
    "X_train, X_test, y_train, y_test = train_test_split(\n",
    "    X, y, test_size=0.2, random_state=42\n",
    ")\n",
    "\n",
    "model = Pipeline(steps=[\n",
    "    (\"preprocessor\", preprocessor),\n",
    "    (\"regressor\", MultiOutputRegressor(RandomForestRegressor(\n",
    "        n_estimators=200,\n",
    "        max_depth=10,\n",
    "        random_state=42\n",
    "    )))\n",
    "])"
   ]
  },
  {
   "cell_type": "code",
   "execution_count": 0,
   "metadata": {
    "application/vnd.databricks.v1+cell": {
     "cellMetadata": {
      "byteLimit": 2048000,
      "rowLimit": 10000
     },
     "inputWidgets": {},
     "nuid": "b5a76ffa-43ad-4013-bdf6-e5c0f8643681",
     "showTitle": false,
     "tableResultSettingsMap": {},
     "title": ""
    }
   },
   "outputs": [],
   "source": [
    "with mlflow.start_run():\n",
    "    model.fit(X_train, y_train)\n",
    "    y_pred = model.predict(X_test)\n",
    "\n",
    "    # Logar métricas\n",
    "    for i, col in enumerate(y.columns):\n",
    "        mae = mean_absolute_error(y_test.iloc[:, i], y_pred[:, i])\n",
    "        rmse = np.sqrt(mean_squared_error(y_test.iloc[:, i], y_pred[:, i]))\n",
    "        r2 = r2_score(y_test.iloc[:, i], y_pred[:, i])\n",
    "        mlflow.log_metric(f\"{col}_mae\", mae)\n",
    "        mlflow.log_metric(f\"{col}_rmse\", rmse)\n",
    "        mlflow.log_metric(f\"{col}_r2\", r2)\n",
    "\n",
    "    # Salvar modelo no registry\n",
    "    mlflow.sklearn.log_model(\n",
    "        sk_model=model,\n",
    "        artifact_path=\"model\",\n",
    "        registered_model_name=model_name\n",
    "    )"
   ]
  },
  {
   "cell_type": "code",
   "execution_count": 0,
   "metadata": {
    "application/vnd.databricks.v1+cell": {
     "cellMetadata": {
      "byteLimit": 2048000,
      "rowLimit": 10000
     },
     "inputWidgets": {},
     "nuid": "c7404a5e-615a-4107-bd1d-ce134c49289e",
     "showTitle": false,
     "tableResultSettingsMap": {},
     "title": ""
    }
   },
   "outputs": [],
   "source": [
    "client = MlflowClient()\n",
    "latest = client.get_latest_versions(model_name, stages=[\"None\"])\n",
    "model_uri = f\"models:/{model_name}/{latest[0].version}\"\n",
    "\n",
    "dbutils.jobs.taskValues.set(\"model_uri\", model_uri)\n",
    "dbutils.jobs.taskValues.set(\"model_name\", model_name)\n",
    "dbutils.jobs.taskValues.set(\"model_version\", latest[0].version)\n",
    "\n",
    "dbutils.notebook.exit(model_uri)"
   ]
  }
 ],
 "metadata": {
  "application/vnd.databricks.v1+notebook": {
   "computePreferences": null,
   "dashboards": [],
   "environmentMetadata": {
    "base_environment": "",
    "environment_version": "3"
   },
   "inputWidgetPreferences": null,
   "language": "python",
   "notebookMetadata": {
    "pythonIndentUnit": 4
   },
   "notebookName": "Train",
   "widgets": {
    "experiment_name": {
     "currentValue": "/dev-mlops-experiment",
     "nuid": "9b0c0290-2981-4ef8-b356-801fc08c7ffb",
     "typedWidgetInfo": {
      "autoCreated": false,
      "defaultValue": "/dev-mlops-experiment",
      "label": "MLflow Experiment Name",
      "name": "experiment_name",
      "options": {
       "widgetDisplayType": "Text",
       "validationRegex": null
      },
      "parameterDataType": "String"
     },
     "widgetInfo": {
      "widgetType": "text",
      "defaultValue": "/dev-mlops-experiment",
      "label": "MLflow Experiment Name",
      "name": "experiment_name",
      "options": {
       "widgetType": "text",
       "autoCreated": null,
       "validationRegex": null
      }
     }
    },
    "model_name": {
     "currentValue": "car_features_model",
     "nuid": "af8e9cbd-c8d4-4d25-ba6c-0a2108751c0d",
     "typedWidgetInfo": {
      "autoCreated": false,
      "defaultValue": "car_features_model",
      "label": "Model Name",
      "name": "model_name",
      "options": {
       "widgetDisplayType": "Text",
       "validationRegex": null
      },
      "parameterDataType": "String"
     },
     "widgetInfo": {
      "widgetType": "text",
      "defaultValue": "car_features_model",
      "label": "Model Name",
      "name": "model_name",
      "options": {
       "widgetType": "text",
       "autoCreated": null,
       "validationRegex": null
      }
     }
    },
    "training_data_table": {
     "currentValue": "postech_ml.car_features",
     "nuid": "af670df3-c08a-4df6-9d5a-538da077a67c",
     "typedWidgetInfo": {
      "autoCreated": false,
      "defaultValue": "postech_ml.car_features",
      "label": "Training data table",
      "name": "training_data_table",
      "options": {
       "widgetDisplayType": "Text",
       "validationRegex": null
      },
      "parameterDataType": "String"
     },
     "widgetInfo": {
      "widgetType": "text",
      "defaultValue": "postech_ml.car_features",
      "label": "Training data table",
      "name": "training_data_table",
      "options": {
       "widgetType": "text",
       "autoCreated": null,
       "validationRegex": null
      }
     }
    },
    "training_dataset": {
     "currentValue": "postech_ml.car_features",
     "nuid": "f57d8bec-23a1-44bf-90d4-78e533a0026c",
     "typedWidgetInfo": {
      "autoCreated": false,
      "defaultValue": "postech_ml.car_features",
      "label": "Training Dataset",
      "name": "training_dataset",
      "options": {
       "widgetDisplayType": "Text",
       "validationRegex": null
      },
      "parameterDataType": "String"
     },
     "widgetInfo": {
      "widgetType": "text",
      "defaultValue": "postech_ml.car_features",
      "label": "Training Dataset",
      "name": "training_dataset",
      "options": {
       "widgetType": "text",
       "autoCreated": false,
       "validationRegex": null
      }
     }
    }
   }
  },
  "language_info": {
   "name": "python"
  }
 },
 "nbformat": 4,
 "nbformat_minor": 0
}
