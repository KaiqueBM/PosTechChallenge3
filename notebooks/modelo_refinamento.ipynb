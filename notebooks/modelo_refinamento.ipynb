{
 "cells": [
  {
   "cell_type": "code",
   "execution_count": 53,
   "id": "e35537ad",
   "metadata": {},
   "outputs": [],
   "source": [
    "import pandas as pd\n",
    "import numpy as np\n",
    "from sklearn.model_selection import train_test_split, cross_val_score, KFold\n",
    "from sklearn.linear_model import LinearRegression, Ridge, Lasso\n",
    "from sklearn.ensemble import RandomForestRegressor\n",
    "from sklearn.metrics import mean_absolute_error, r2_score\n"
   ]
  },
  {
   "cell_type": "markdown",
   "id": "0117c009",
   "metadata": {},
   "source": [
    "# Carregar datasets"
   ]
  },
  {
   "cell_type": "code",
   "execution_count": 54,
   "id": "040de6f2",
   "metadata": {},
   "outputs": [
    {
     "data": {
      "text/html": [
       "<div>\n",
       "<style scoped>\n",
       "    .dataframe tbody tr th:only-of-type {\n",
       "        vertical-align: middle;\n",
       "    }\n",
       "\n",
       "    .dataframe tbody tr th {\n",
       "        vertical-align: top;\n",
       "    }\n",
       "\n",
       "    .dataframe thead th {\n",
       "        text-align: right;\n",
       "    }\n",
       "</style>\n",
       "<table border=\"1\" class=\"dataframe\">\n",
       "  <thead>\n",
       "    <tr style=\"text-align: right;\">\n",
       "      <th></th>\n",
       "      <th>Make</th>\n",
       "      <th>Model</th>\n",
       "      <th>Vehicle Class</th>\n",
       "      <th>Engine Size(L)</th>\n",
       "      <th>Cylinders</th>\n",
       "      <th>Transmission</th>\n",
       "      <th>Fuel Type</th>\n",
       "      <th>Fuel Consumption City (L/100 km)</th>\n",
       "      <th>Fuel Consumption Hwy (L/100 km)</th>\n",
       "      <th>Fuel Consumption Comb (L/100 km)</th>\n",
       "      <th>Fuel Consumption Comb (mpg)</th>\n",
       "      <th>CO2 Emissions(g/km)</th>\n",
       "    </tr>\n",
       "  </thead>\n",
       "  <tbody>\n",
       "    <tr>\n",
       "      <th>0</th>\n",
       "      <td>ACURA</td>\n",
       "      <td>ILX</td>\n",
       "      <td>COMPACT</td>\n",
       "      <td>2.0</td>\n",
       "      <td>4</td>\n",
       "      <td>AS5</td>\n",
       "      <td>Z</td>\n",
       "      <td>9.9</td>\n",
       "      <td>6.7</td>\n",
       "      <td>8.5</td>\n",
       "      <td>33</td>\n",
       "      <td>196</td>\n",
       "    </tr>\n",
       "    <tr>\n",
       "      <th>1</th>\n",
       "      <td>ACURA</td>\n",
       "      <td>ILX</td>\n",
       "      <td>COMPACT</td>\n",
       "      <td>2.4</td>\n",
       "      <td>4</td>\n",
       "      <td>M6</td>\n",
       "      <td>Z</td>\n",
       "      <td>11.2</td>\n",
       "      <td>7.7</td>\n",
       "      <td>9.6</td>\n",
       "      <td>29</td>\n",
       "      <td>221</td>\n",
       "    </tr>\n",
       "    <tr>\n",
       "      <th>2</th>\n",
       "      <td>ACURA</td>\n",
       "      <td>ILX HYBRID</td>\n",
       "      <td>COMPACT</td>\n",
       "      <td>1.5</td>\n",
       "      <td>4</td>\n",
       "      <td>AV7</td>\n",
       "      <td>Z</td>\n",
       "      <td>6.0</td>\n",
       "      <td>5.8</td>\n",
       "      <td>5.9</td>\n",
       "      <td>48</td>\n",
       "      <td>136</td>\n",
       "    </tr>\n",
       "    <tr>\n",
       "      <th>3</th>\n",
       "      <td>ACURA</td>\n",
       "      <td>MDX 4WD</td>\n",
       "      <td>SUV - SMALL</td>\n",
       "      <td>3.5</td>\n",
       "      <td>6</td>\n",
       "      <td>AS6</td>\n",
       "      <td>Z</td>\n",
       "      <td>12.7</td>\n",
       "      <td>9.1</td>\n",
       "      <td>11.1</td>\n",
       "      <td>25</td>\n",
       "      <td>255</td>\n",
       "    </tr>\n",
       "    <tr>\n",
       "      <th>4</th>\n",
       "      <td>ACURA</td>\n",
       "      <td>RDX AWD</td>\n",
       "      <td>SUV - SMALL</td>\n",
       "      <td>3.5</td>\n",
       "      <td>6</td>\n",
       "      <td>AS6</td>\n",
       "      <td>Z</td>\n",
       "      <td>12.1</td>\n",
       "      <td>8.7</td>\n",
       "      <td>10.6</td>\n",
       "      <td>27</td>\n",
       "      <td>244</td>\n",
       "    </tr>\n",
       "  </tbody>\n",
       "</table>\n",
       "</div>"
      ],
      "text/plain": [
       "    Make       Model Vehicle Class  Engine Size(L)  Cylinders Transmission  \\\n",
       "0  ACURA         ILX       COMPACT             2.0          4          AS5   \n",
       "1  ACURA         ILX       COMPACT             2.4          4           M6   \n",
       "2  ACURA  ILX HYBRID       COMPACT             1.5          4          AV7   \n",
       "3  ACURA     MDX 4WD   SUV - SMALL             3.5          6          AS6   \n",
       "4  ACURA     RDX AWD   SUV - SMALL             3.5          6          AS6   \n",
       "\n",
       "  Fuel Type  Fuel Consumption City (L/100 km)  \\\n",
       "0         Z                               9.9   \n",
       "1         Z                              11.2   \n",
       "2         Z                               6.0   \n",
       "3         Z                              12.7   \n",
       "4         Z                              12.1   \n",
       "\n",
       "   Fuel Consumption Hwy (L/100 km)  Fuel Consumption Comb (L/100 km)  \\\n",
       "0                              6.7                               8.5   \n",
       "1                              7.7                               9.6   \n",
       "2                              5.8                               5.9   \n",
       "3                              9.1                              11.1   \n",
       "4                              8.7                              10.6   \n",
       "\n",
       "   Fuel Consumption Comb (mpg)  CO2 Emissions(g/km)  \n",
       "0                           33                  196  \n",
       "1                           29                  221  \n",
       "2                           48                  136  \n",
       "3                           25                  255  \n",
       "4                           27                  244  "
      ]
     },
     "execution_count": 54,
     "metadata": {},
     "output_type": "execute_result"
    }
   ],
   "source": [
    "# Carregar CSV\n",
    "caminho = \"../dados/CO2_Emissions_Canada.csv\"\n",
    "df = pd.read_csv(caminho)\n",
    "\n",
    "# Verificar primeiras linhas\n",
    "df.head()\n"
   ]
  },
  {
   "cell_type": "markdown",
   "id": "1fe6b023",
   "metadata": {},
   "source": [
    "# Pré Processamento inicial"
   ]
  },
  {
   "cell_type": "code",
   "execution_count": 55,
   "id": "5b00117d",
   "metadata": {},
   "outputs": [
    {
     "name": "stderr",
     "output_type": "stream",
     "text": [
      "C:\\Users\\exhar\\AppData\\Local\\Temp\\ipykernel_3756\\724968876.py:5: FutureWarning: A value is trying to be set on a copy of a DataFrame or Series through chained assignment using an inplace method.\n",
      "The behavior will change in pandas 3.0. This inplace method will never work because the intermediate object on which we are setting values always behaves as a copy.\n",
      "\n",
      "For example, when doing 'df[col].method(value, inplace=True)', try using 'df.method({col: value}, inplace=True)' or df[col] = df[col].method(value) instead, to perform the operation inplace on the original object.\n",
      "\n",
      "\n",
      "  df[\"Fuel Type Detailed\"].fillna(\"Other\", inplace=True)\n"
     ]
    }
   ],
   "source": [
    "# Mapear Fuel Type para detalhado\n",
    "fuel_map = {\"Z\": \"Premium Gasoline\", \"X\": \"Regular Gasoline\", \"D\": \"Diesel\", \n",
    "            \"E\": \"Ethanol\", \"N\": \"Natural Gas\"}\n",
    "df[\"Fuel Type Detailed\"] = df[\"Fuel Type\"].map(fuel_map)\n",
    "df[\"Fuel Type Detailed\"].fillna(\"Other\", inplace=True)\n",
    "\n",
    "# Criar colunas binárias para tipos de combustível\n",
    "df[\"Is_Diesel\"] = (df[\"Fuel Type Detailed\"] == \"Diesel\").astype(int)\n",
    "df[\"Is_Hybrid\"] = (df[\"Fuel Type Detailed\"] == \"Hybrid\").astype(int)\n",
    "df[\"Is_Electric\"] = (df[\"Fuel Type Detailed\"] == \"Electric\").astype(int)\n",
    "\n",
    "# Intensidade de emissão por combustível (gCO2/L)\n",
    "fuel_co2_factor = {\n",
    "    \"Gasoline\": 2392,\n",
    "    \"Regular Gasoline\": 2392,\n",
    "    \"Diesel\": 2640,\n",
    "    \"Ethanol\": 1500,\n",
    "    \"Natural Gas\": 2010,\n",
    "    \"Hybrid\": 1800,\n",
    "    \"Electric\": 0,\n",
    "    \"Premium Gasoline\": 2392,\n",
    "    \"Other\": 2200\n",
    "}\n",
    "df[\"Fuel_CO2_Factor\"] = df[\"Fuel Type Detailed\"].map(fuel_co2_factor)\n"
   ]
  },
  {
   "cell_type": "markdown",
   "id": "8e009ec2",
   "metadata": {},
   "source": [
    "# Agrupar categorias de veiculos"
   ]
  },
  {
   "cell_type": "code",
   "execution_count": 56,
   "id": "bd9d8304",
   "metadata": {},
   "outputs": [],
   "source": [
    "def agrupar_categoria(cat):\n",
    "    cat = str(cat).upper()\n",
    "    if \"SUV\" in cat:\n",
    "        return \"SUV\"\n",
    "    elif \"COMPACT\" in cat or \"SUBCOMPACT\" in cat or \"MID\" in cat or \"FULL\" in cat or \"MINI\" in cat:\n",
    "        return \"CAR\"\n",
    "    elif \"PICKUP\" in cat or \"TRUCK\" in cat:\n",
    "        return \"TRUCK\"\n",
    "    elif \"VAN\" in cat:\n",
    "        return \"VAN\"\n",
    "    elif \"STATION\" in cat:\n",
    "        return \"WAGON\"\n",
    "    else:\n",
    "        return \"OTHER\"\n",
    "\n",
    "df[\"Vehicle Category\"] = df[\"Vehicle Class\"].apply(agrupar_categoria)\n"
   ]
  },
  {
   "cell_type": "markdown",
   "id": "6a6ecaf3",
   "metadata": {},
   "source": [
    "# Criar features"
   ]
  },
  {
   "cell_type": "code",
   "execution_count": 57,
   "id": "42220ec0",
   "metadata": {},
   "outputs": [],
   "source": [
    "# One-hot encoding para Vehicle Category\n",
    "df_model = pd.get_dummies(df, columns=[\"Vehicle Category\"], drop_first=True)\n",
    "\n",
    "# Features originais + detalhadas\n",
    "features = [\n",
    "    \"Engine Size(L)\",\n",
    "    \"Cylinders\",\n",
    "    \"Fuel Consumption City (L/100 km)\",\n",
    "    \"Fuel Consumption Hwy (L/100 km)\",\n",
    "    \"Fuel Consumption Comb (L/100 km)\",\n",
    "    \"Is_Diesel\",\n",
    "    \"Is_Hybrid\",\n",
    "    \"Is_Electric\",\n",
    "    \"Fuel_CO2_Factor\"\n",
    "] + [col for col in df_model.columns if col.startswith(\"Vehicle Category_\")]\n",
    "\n",
    "# Features derivadas\n",
    "df_model[\"Engine_per_Cylinder\"] = df_model[\"Engine Size(L)\"] / df_model[\"Cylinders\"]\n",
    "df_model[\"City_Hwy_Ratio\"] = df_model[\"Fuel Consumption City (L/100 km)\"] / df_model[\"Fuel Consumption Hwy (L/100 km)\"]\n",
    "df_model[\"Weighted_Fuel\"] = df_model[\"Fuel_CO2_Factor\"] * df_model[\"Fuel Consumption Comb (L/100 km)\"]\n",
    "\n",
    "features += [\"Engine_per_Cylinder\", \"City_Hwy_Ratio\", \"Weighted_Fuel\"]\n",
    "\n",
    "# Suavizar variável alvo\n",
    "np.random.seed(42)\n",
    "df_model[\"CO2_Smoothed\"] = df_model[\"CO2 Emissions(g/km)\"] + np.random.normal(0, 5, size=len(df_model))\n",
    "\n",
    "target = \"CO2_Smoothed\"\n"
   ]
  },
  {
   "cell_type": "markdown",
   "id": "9f0d47b9",
   "metadata": {},
   "source": [
    "# Regressão linear com cross-validation"
   ]
  },
  {
   "cell_type": "code",
   "execution_count": 58,
   "id": "58a614a1",
   "metadata": {},
   "outputs": [
    {
     "name": "stderr",
     "output_type": "stream",
     "text": [
      "c:\\Users\\exhar\\Desktop\\MLE\\PosTechChallenge3\\venv\\Lib\\site-packages\\sklearn\\linear_model\\_coordinate_descent.py:695: ConvergenceWarning: Objective did not converge. You might want to increase the number of iterations, check the scale of the features or consider increasing regularisation. Duality gap: 2.541e+03, tolerance: 2.051e+03\n",
      "  model = cd_fast.enet_coordinate_descent(\n"
     ]
    },
    {
     "name": "stdout",
     "output_type": "stream",
     "text": [
      "LinearRegression\n",
      "R² média: 0.9895\n",
      "MAE médio: 4.7172\n",
      "------------------------------\n",
      "Ridge\n",
      "R² média: 0.9895\n",
      "MAE médio: 4.7179\n",
      "------------------------------\n"
     ]
    },
    {
     "name": "stderr",
     "output_type": "stream",
     "text": [
      "c:\\Users\\exhar\\Desktop\\MLE\\PosTechChallenge3\\venv\\Lib\\site-packages\\sklearn\\linear_model\\_coordinate_descent.py:695: ConvergenceWarning: Objective did not converge. You might want to increase the number of iterations, check the scale of the features or consider increasing regularisation. Duality gap: 2.081e+03, tolerance: 2.022e+03\n",
      "  model = cd_fast.enet_coordinate_descent(\n",
      "c:\\Users\\exhar\\Desktop\\MLE\\PosTechChallenge3\\venv\\Lib\\site-packages\\sklearn\\linear_model\\_coordinate_descent.py:695: ConvergenceWarning: Objective did not converge. You might want to increase the number of iterations, check the scale of the features or consider increasing regularisation. Duality gap: 2.541e+03, tolerance: 2.051e+03\n",
      "  model = cd_fast.enet_coordinate_descent(\n"
     ]
    },
    {
     "name": "stdout",
     "output_type": "stream",
     "text": [
      "Lasso\n",
      "R² média: 0.9893\n",
      "MAE médio: 4.7633\n",
      "------------------------------\n"
     ]
    },
    {
     "name": "stderr",
     "output_type": "stream",
     "text": [
      "c:\\Users\\exhar\\Desktop\\MLE\\PosTechChallenge3\\venv\\Lib\\site-packages\\sklearn\\linear_model\\_coordinate_descent.py:695: ConvergenceWarning: Objective did not converge. You might want to increase the number of iterations, check the scale of the features or consider increasing regularisation. Duality gap: 2.081e+03, tolerance: 2.022e+03\n",
      "  model = cd_fast.enet_coordinate_descent(\n"
     ]
    }
   ],
   "source": [
    "X = df_model[features]\n",
    "y = df_model[target]\n",
    "\n",
    "models = [LinearRegression(), Ridge(alpha=1.0), Lasso(alpha=0.1)]\n",
    "\n",
    "for model in models:\n",
    "    scores_r2 = cross_val_score(model, X, y, cv=5, scoring=\"r2\")\n",
    "    scores_mae = -cross_val_score(model, X, y, cv=5, scoring=\"neg_mean_absolute_error\")\n",
    "    print(f\"{model.__class__.__name__}\")\n",
    "    print(f\"R² média: {scores_r2.mean():.4f}\")\n",
    "    print(f\"MAE médio: {scores_mae.mean():.4f}\")\n",
    "    print(\"-\" * 30)\n"
   ]
  },
  {
   "cell_type": "markdown",
   "id": "7a811992",
   "metadata": {},
   "source": [
    "# Random Forest com hiperparâmetros controlados"
   ]
  },
  {
   "cell_type": "code",
   "execution_count": 59,
   "id": "19c14932",
   "metadata": {},
   "outputs": [
    {
     "name": "stdout",
     "output_type": "stream",
     "text": [
      "R² por fold: [0.99731148 0.99775387 0.99713445 0.99684342 0.99717432]\n",
      "Média R²: 0.9972435088095131\n",
      "MAE por fold: [2.15578378 2.06787792 2.13068792 2.1769259  2.06335102]\n",
      "Média MAE: 2.1189253088597746\n",
      "------------------------------\n",
      "Teste MAE: 1.7710051858148135\n",
      "Teste R²: 0.998203617730196\n"
     ]
    }
   ],
   "source": [
    "# Separar X e y\n",
    "X = df_model[features]\n",
    "y = df_model[\"CO2 Emissions(g/km)\"]  # usar alvo original aqui\n",
    "\n",
    "# Random Forest\n",
    "rf_model = RandomForestRegressor(\n",
    "    n_estimators=100,\n",
    "    max_depth=10,\n",
    "    min_samples_leaf=5,\n",
    "    random_state=42,\n",
    "    n_jobs=-1\n",
    ")\n",
    "\n",
    "# Cross-validation\n",
    "kf = KFold(n_splits=5, shuffle=True, random_state=42)\n",
    "r2_scores = cross_val_score(rf_model, X, y, cv=kf, scoring='r2')\n",
    "mae_scores = -cross_val_score(rf_model, X, y, cv=kf, scoring='neg_mean_absolute_error')\n",
    "\n",
    "print(\"R² por fold:\", r2_scores)\n",
    "print(\"Média R²:\", r2_scores.mean())\n",
    "print(\"MAE por fold:\", mae_scores)\n",
    "print(\"Média MAE:\", mae_scores.mean())\n",
    "\n",
    "# Treinar no dataset completo\n",
    "rf_model.fit(X, y)\n",
    "y_pred = rf_model.predict(X)\n",
    "print(\"-\" * 30)\n",
    "print(\"Teste MAE:\", mean_absolute_error(y, y_pred))\n",
    "print(\"Teste R²:\", r2_score(y, y_pred))\n"
   ]
  }
 ],
 "metadata": {
  "kernelspec": {
   "display_name": "venv (3.13.3)",
   "language": "python",
   "name": "python3"
  },
  "language_info": {
   "codemirror_mode": {
    "name": "ipython",
    "version": 3
   },
   "file_extension": ".py",
   "mimetype": "text/x-python",
   "name": "python",
   "nbconvert_exporter": "python",
   "pygments_lexer": "ipython3",
   "version": "3.13.3"
  }
 },
 "nbformat": 4,
 "nbformat_minor": 5
}
