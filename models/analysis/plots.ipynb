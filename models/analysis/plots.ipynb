{
 "cells": [
  {
   "cell_type": "code",
   "execution_count": 0,
   "metadata": {
    "application/vnd.databricks.v1+cell": {
     "cellMetadata": {},
     "inputWidgets": {},
     "nuid": "3cc89826-af8d-47b2-acea-c391d44f7745",
     "showTitle": false,
     "tableResultSettingsMap": {},
     "title": ""
    }
   },
   "outputs": [],
   "source": [
    "import pandas as pd\n",
    "import matplotlib.pyplot as plt\n",
    "import seaborn as sns\n",
    "\n",
    "# Configurações visuais\n",
    "sns.set(style=\"whitegrid\")\n",
    "plt.rcParams[\"figure.figsize\"] = (10, 6)\n"
   ]
  },
  {
   "cell_type": "code",
   "execution_count": 0,
   "metadata": {
    "application/vnd.databricks.v1+cell": {
     "cellMetadata": {},
     "inputWidgets": {},
     "nuid": "13a54366-735c-4c26-9e83-d011e94ecbdc",
     "showTitle": false,
     "tableResultSettingsMap": {},
     "title": ""
    }
   },
   "outputs": [],
   "source": [
    "# https://www.kaggle.com/datasets/CooperUnion/cardataset\n",
    "df = pd.read_csv(\"../../dados/CarFeatures_Predictions.csv\")\n",
    "df.head()"
   ]
  },
  {
   "cell_type": "markdown",
   "metadata": {
    "application/vnd.databricks.v1+cell": {
     "cellMetadata": {},
     "inputWidgets": {},
     "nuid": "4f5aa204-5068-485b-8811-af6397474516",
     "showTitle": false,
     "tableResultSettingsMap": {},
     "title": ""
    }
   },
   "source": [
    "### Comparar preços reais vs previstos"
   ]
  },
  {
   "cell_type": "code",
   "execution_count": 0,
   "metadata": {
    "application/vnd.databricks.v1+cell": {
     "cellMetadata": {},
     "inputWidgets": {},
     "nuid": "e7ee73b0-605f-4754-ad2d-ba897e7d7b0c",
     "showTitle": false,
     "tableResultSettingsMap": {},
     "title": ""
    }
   },
   "outputs": [],
   "source": [
    "sns.scatterplot(x=\"MSRP\", y=\"MSRP_pred\", data=df)\n",
    "plt.title(\"Preço real vs Preço previsto\")\n",
    "plt.xlabel(\"Preço real (MSRP)\")\n",
    "plt.ylabel(\"Preço previsto (MSRP_pred)\")\n",
    "plt.show()"
   ]
  },
  {
   "cell_type": "markdown",
   "metadata": {
    "application/vnd.databricks.v1+cell": {
     "cellMetadata": {},
     "inputWidgets": {},
     "nuid": "4362c34f-d6d8-47fe-b230-12240d878717",
     "showTitle": false,
     "tableResultSettingsMap": {},
     "title": ""
    }
   },
   "source": [
    "### Distribuição de preços previstos"
   ]
  },
  {
   "cell_type": "code",
   "execution_count": 0,
   "metadata": {
    "application/vnd.databricks.v1+cell": {
     "cellMetadata": {},
     "inputWidgets": {},
     "nuid": "84592973-f608-4de0-9efe-a7a4746fba21",
     "showTitle": false,
     "tableResultSettingsMap": {},
     "title": ""
    }
   },
   "outputs": [],
   "source": [
    "sns.histplot(df[\"MSRP_pred\"], bins=30, kde=True, color=\"skyblue\")\n",
    "plt.title(\"Distribuição do preço previsto\")\n",
    "plt.xlabel(\"MSRP previsto\")\n",
    "plt.show()"
   ]
  },
  {
   "cell_type": "markdown",
   "metadata": {
    "application/vnd.databricks.v1+cell": {
     "cellMetadata": {},
     "inputWidgets": {},
     "nuid": "79e75df1-4230-452c-9b5b-b8988d729fcf",
     "showTitle": false,
     "tableResultSettingsMap": {},
     "title": ""
    }
   },
   "source": [
    "### Consumo cidade vs estrada por marca"
   ]
  },
  {
   "cell_type": "code",
   "execution_count": 0,
   "metadata": {
    "application/vnd.databricks.v1+cell": {
     "cellMetadata": {},
     "inputWidgets": {},
     "nuid": "cc24a24a-f7c1-4071-b1b8-2fbccdf4a419",
     "showTitle": false,
     "tableResultSettingsMap": {},
     "title": ""
    }
   },
   "outputs": [],
   "source": [
    "sns.scatterplot(x=\"city_mpg_pred\", y=\"highway_mpg_pred\", hue=\"Make\", data=df, alpha=0.7)\n",
    "plt.title(\"Consumo cidade vs estrada por marca\")\n",
    "plt.xlabel(\"city mpg previsto\")\n",
    "plt.ylabel(\"highway MPG previsto\")\n",
    "plt.legend(bbox_to_anchor=(1.05, 1), loc='upper left')\n",
    "plt.show()"
   ]
  },
  {
   "cell_type": "markdown",
   "metadata": {
    "application/vnd.databricks.v1+cell": {
     "cellMetadata": {},
     "inputWidgets": {},
     "nuid": "904b5466-2272-4f36-9fe6-2419c43256ee",
     "showTitle": false,
     "tableResultSettingsMap": {},
     "title": ""
    }
   },
   "source": [
    "### Preço vs Consumo (cidade)"
   ]
  },
  {
   "cell_type": "code",
   "execution_count": 0,
   "metadata": {
    "application/vnd.databricks.v1+cell": {
     "cellMetadata": {},
     "inputWidgets": {},
     "nuid": "6e6242cd-0532-4cfc-9568-c9f6b88c240a",
     "showTitle": false,
     "tableResultSettingsMap": {},
     "title": ""
    }
   },
   "outputs": [],
   "source": [
    "sns.scatterplot(\n",
    "    x=\"city_mpg_pred\", \n",
    "    y=\"MSRP_pred\", \n",
    "    hue=\"Vehicle Size\", \n",
    "    data=df\n",
    ")\n",
    "plt.title(\"Preço previsto vs Consumo na cidade\")\n",
    "plt.xlabel(\"Consumo cidade (mpg previsto)\")\n",
    "plt.ylabel(\"Preço previsto (MSRP_pred)\")\n",
    "plt.show()"
   ]
  },
  {
   "cell_type": "markdown",
   "metadata": {
    "application/vnd.databricks.v1+cell": {
     "cellMetadata": {},
     "inputWidgets": {},
     "nuid": "12c02efa-66fa-45e4-bd89-02ae60b9a72f",
     "showTitle": false,
     "tableResultSettingsMap": {},
     "title": ""
    }
   },
   "source": [
    "### Top 10 modelos mais caros"
   ]
  },
  {
   "cell_type": "code",
   "execution_count": 0,
   "metadata": {
    "application/vnd.databricks.v1+cell": {
     "cellMetadata": {},
     "inputWidgets": {},
     "nuid": "8f119c23-7a0e-4790-95ad-c0dedce2ed48",
     "showTitle": false,
     "tableResultSettingsMap": {},
     "title": ""
    }
   },
   "outputs": [],
   "source": [
    "top10 = df.groupby(\"Model\")[\"MSRP_pred\"].mean().sort_values(ascending=False).head(10)\n",
    "sns.barplot(x=top10.values, y=top10.index, palette=\"viridis\")\n",
    "plt.title(\"Top 10 modelos mais caros\")\n",
    "plt.xlabel(\"Preço médio previsto (MSRP_pred)\")\n",
    "plt.show()"
   ]
  },
  {
   "cell_type": "markdown",
   "metadata": {
    "application/vnd.databricks.v1+cell": {
     "cellMetadata": {},
     "inputWidgets": {},
     "nuid": "f8f1ba03-6f34-490d-8daf-b5d4ec38614e",
     "showTitle": false,
     "tableResultSettingsMap": {},
     "title": ""
    }
   },
   "source": [
    "### Boxplot de consumo por Vehicle Size"
   ]
  },
  {
   "cell_type": "code",
   "execution_count": 0,
   "metadata": {
    "application/vnd.databricks.v1+cell": {
     "cellMetadata": {},
     "inputWidgets": {},
     "nuid": "96d779c8-28a7-43ce-8402-2050780ced92",
     "showTitle": false,
     "tableResultSettingsMap": {},
     "title": ""
    }
   },
   "outputs": [],
   "source": [
    "sns.boxplot(\n",
    "    x=\"Vehicle Size\", \n",
    "    y=\"city_mpg_pred\", \n",
    "    data=df, \n",
    "    palette=\"pastel\"\n",
    ")\n",
    "plt.title(\"Consumo na cidade por tamanho do veículo\")\n",
    "plt.xlabel(\"Vehicle Size\")\n",
    "plt.ylabel(\"City MPG previsto\")\n",
    "plt.show()"
   ]
  }
 ],
 "metadata": {
  "application/vnd.databricks.v1+notebook": {
   "computePreferences": null,
   "dashboards": [],
   "environmentMetadata": null,
   "inputWidgetPreferences": null,
   "language": "python",
   "notebookMetadata": {},
   "notebookName": "plots",
   "widgets": {}
  },
  "kernelspec": {
   "display_name": "venv (3.13.3)",
   "language": "python",
   "name": "python3"
  },
  "language_info": {
   "name": "python"
  }
 },
 "nbformat": 4,
 "nbformat_minor": 0
}
