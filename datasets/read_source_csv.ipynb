{
 "cells": [
  {
   "cell_type": "code",
   "execution_count": 0,
   "metadata": {
    "application/vnd.databricks.v1+cell": {
     "cellMetadata": {
      "byteLimit": 2048000,
      "rowLimit": 10000
     },
     "inputWidgets": {},
     "nuid": "7328758b-9a55-491e-b4b2-7edb9b71796a",
     "showTitle": false,
     "tableResultSettingsMap": {},
     "title": ""
    }
   },
   "outputs": [],
   "source": [
    "import pandas as pd"
   ]
  },
  {
   "cell_type": "code",
   "execution_count": 0,
   "metadata": {
    "application/vnd.databricks.v1+cell": {
     "cellMetadata": {
      "byteLimit": 2048000,
      "rowLimit": 10000
     },
     "inputWidgets": {},
     "nuid": "bf91b1ec-ed82-4072-9635-c5a76424e6e7",
     "showTitle": false,
     "tableResultSettingsMap": {},
     "title": ""
    }
   },
   "outputs": [],
   "source": [
    "# Caminhos default\n",
    "default_source_csv = \"./input/car_features.csv\"\n",
    "default_output_table = \"postech_ml.car_features_raw\""
   ]
  },
  {
   "cell_type": "code",
   "execution_count": 0,
   "metadata": {
    "application/vnd.databricks.v1+cell": {
     "cellMetadata": {
      "byteLimit": 2048000,
      "rowLimit": 10000
     },
     "inputWidgets": {},
     "nuid": "82698000-284c-4359-a8d8-523409441515",
     "showTitle": false,
     "tableResultSettingsMap": {},
     "title": ""
    }
   },
   "outputs": [],
   "source": [
    "# Parametros\n",
    "dbutils.widgets.text(\"source_csv\", default_source_csv, label=\"Source CSV\")\n",
    "dbutils.widgets.text(\"output_table\", default_output_table, label=\"Output Table\")\n",
    "\n",
    "source_csv = dbutils.widgets.get(\"source_csv\")\n",
    "output_table = dbutils.widgets.get(\"output_table\")\n"
   ]
  },
  {
   "cell_type": "code",
   "execution_count": 0,
   "metadata": {
    "application/vnd.databricks.v1+cell": {
     "cellMetadata": {
      "byteLimit": 2048000,
      "rowLimit": 10000
     },
     "inputWidgets": {},
     "nuid": "60da1867-8095-40ca-bfa9-58f087926958",
     "showTitle": false,
     "tableResultSettingsMap": {},
     "title": ""
    }
   },
   "outputs": [],
   "source": [
    "# Ler CSV\n",
    "df = pd.read_csv(source_csv)\n",
    "spark_df = spark.createDataFrame(df)"
   ]
  },
  {
   "cell_type": "code",
   "execution_count": 0,
   "metadata": {
    "application/vnd.databricks.v1+cell": {
     "cellMetadata": {
      "byteLimit": 2048000,
      "rowLimit": 10000
     },
     "inputWidgets": {},
     "nuid": "33dd6c90-2011-4fbb-b49d-472b37c9618d",
     "showTitle": false,
     "tableResultSettingsMap": {},
     "title": ""
    }
   },
   "outputs": [],
   "source": [
    "# Renomear colunas tirando o espaco e deixando em lower case\n",
    "for col_name in spark_df.columns:\n",
    "    spark_df = spark_df.withColumnRenamed(col_name, col_name.replace(\" \", \"_\").lower())"
   ]
  },
  {
   "cell_type": "code",
   "execution_count": 0,
   "metadata": {
    "application/vnd.databricks.v1+cell": {
     "cellMetadata": {
      "byteLimit": 2048000,
      "rowLimit": 10000
     },
     "inputWidgets": {},
     "nuid": "b5de3da1-b5dd-41a6-9b40-f480928b02b8",
     "showTitle": false,
     "tableResultSettingsMap": {},
     "title": ""
    }
   },
   "outputs": [],
   "source": [
    "# Criando database caso nao exista\n",
    "spark.sql(\"create database if not exists postech_ml\")"
   ]
  },
  {
   "cell_type": "code",
   "execution_count": 0,
   "metadata": {
    "application/vnd.databricks.v1+cell": {
     "cellMetadata": {
      "byteLimit": 2048000,
      "rowLimit": 10000
     },
     "inputWidgets": {},
     "nuid": "77c68b6c-92b8-4aea-8d5d-2bff7b4a68a1",
     "showTitle": false,
     "tableResultSettingsMap": {},
     "title": ""
    }
   },
   "outputs": [],
   "source": [
    "# Escrevendo Tabela\n",
    "spark_df.write.mode(\"overwrite\").saveAsTable(output_table)"
   ]
  }
 ],
 "metadata": {
  "application/vnd.databricks.v1+notebook": {
   "computePreferences": null,
   "dashboards": [],
   "environmentMetadata": null,
   "inputWidgetPreferences": null,
   "language": "python",
   "notebookMetadata": {
    "pythonIndentUnit": 4
   },
   "notebookName": "read_source_csv",
   "widgets": {
    "output_table": {
     "currentValue": "postech_ml.car_features_raw",
     "nuid": "d6e9de91-b49c-40d8-8335-4b112d58d4c8",
     "typedWidgetInfo": {
      "autoCreated": false,
      "defaultValue": "postech_ml.car_features_raw",
      "label": "Output Table",
      "name": "output_table",
      "options": {
       "widgetDisplayType": "Text",
       "validationRegex": null
      },
      "parameterDataType": "String"
     },
     "widgetInfo": {
      "widgetType": "text",
      "defaultValue": "postech_ml.car_features_raw",
      "label": "Output Table",
      "name": "output_table",
      "options": {
       "widgetType": "text",
       "autoCreated": null,
       "validationRegex": null
      }
     }
    },
    "source_csv": {
     "currentValue": "./input/car_features.csv",
     "nuid": "641c43cd-1445-4a07-86e9-f3ac5630bfe0",
     "typedWidgetInfo": {
      "autoCreated": false,
      "defaultValue": "./input/car_features.csv",
      "label": "Source CSV",
      "name": "source_csv",
      "options": {
       "widgetDisplayType": "Text",
       "validationRegex": null
      },
      "parameterDataType": "String"
     },
     "widgetInfo": {
      "widgetType": "text",
      "defaultValue": "./input/car_features.csv",
      "label": "Source CSV",
      "name": "source_csv",
      "options": {
       "widgetType": "text",
       "autoCreated": null,
       "validationRegex": null
      }
     }
    }
   }
  },
  "language_info": {
   "name": "python"
  }
 },
 "nbformat": 4,
 "nbformat_minor": 0
}
