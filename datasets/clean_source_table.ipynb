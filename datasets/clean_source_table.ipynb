{
 "cells": [
  {
   "cell_type": "code",
   "execution_count": 0,
   "metadata": {
    "application/vnd.databricks.v1+cell": {
     "cellMetadata": {
      "byteLimit": 2048000,
      "rowLimit": 10000
     },
     "inputWidgets": {},
     "nuid": "99d84f0e-a132-476e-b20a-15415e955879",
     "showTitle": false,
     "tableResultSettingsMap": {},
     "title": ""
    }
   },
   "outputs": [],
   "source": [
    "import pandas as pd"
   ]
  },
  {
   "cell_type": "code",
   "execution_count": 0,
   "metadata": {
    "application/vnd.databricks.v1+cell": {
     "cellMetadata": {
      "byteLimit": 2048000,
      "rowLimit": 10000
     },
     "inputWidgets": {},
     "nuid": "d96145fd-0d93-4073-ae68-d230565e7c7f",
     "showTitle": false,
     "tableResultSettingsMap": {},
     "title": ""
    }
   },
   "outputs": [],
   "source": [
    "# Caminhos default\n",
    "default_input_table = \"postech_ml.car_features_raw\"\n",
    "default_output_table = \"postech_ml.car_features\""
   ]
  },
  {
   "cell_type": "code",
   "execution_count": 0,
   "metadata": {
    "application/vnd.databricks.v1+cell": {
     "cellMetadata": {
      "byteLimit": 2048000,
      "rowLimit": 10000
     },
     "inputWidgets": {},
     "nuid": "58fd9952-1c26-4d4f-b882-df1334ef8bc3",
     "showTitle": false,
     "tableResultSettingsMap": {},
     "title": ""
    }
   },
   "outputs": [],
   "source": [
    "# Parametros\n",
    "dbutils.widgets.text(\"input_table\", default_input_table, label=\"Input Table\")\n",
    "dbutils.widgets.text(\"output_table\", default_output_table, label=\"Output Table\")\n",
    "\n",
    "input_table = dbutils.widgets.get(\"input_table\")\n",
    "output_table = dbutils.widgets.get(\"output_table\")\n"
   ]
  },
  {
   "cell_type": "code",
   "execution_count": 0,
   "metadata": {
    "application/vnd.databricks.v1+cell": {
     "cellMetadata": {
      "byteLimit": 2048000,
      "rowLimit": 10000
     },
     "inputWidgets": {},
     "nuid": "bd27f9c3-998e-475d-a5ce-764dafef1fb0",
     "showTitle": false,
     "tableResultSettingsMap": {},
     "title": ""
    }
   },
   "outputs": [],
   "source": [
    "# Leitura do dataset de treino\n",
    "df_raw = spark.read.table(input_table)\n",
    "df = df_raw.toPandas()\n",
    "\n",
    "# Tratamentos\n",
    "df[\"engine_fuel_type\"].fillna(\"Unknown\", inplace=True)\n",
    "df[\"engine_hp\"].fillna(df[\"engine_hp\"].median(), inplace=True)\n",
    "df[\"engine_cylinders\"].fillna(df[\"engine_cylinders\"].median(), inplace=True)\n",
    "df[\"number_of_doors\"].fillna(df[\"number_of_doors\"].mode()[0], inplace=True)\n",
    "df[\"market_category\"].fillna(\"Unknown\", inplace=True)\n",
    "df = df.drop_duplicates()"
   ]
  },
  {
   "cell_type": "code",
   "execution_count": 0,
   "metadata": {
    "application/vnd.databricks.v1+cell": {
     "cellMetadata": {
      "byteLimit": 2048000,
      "rowLimit": 10000
     },
     "inputWidgets": {},
     "nuid": "60323a8c-f2bd-48ed-b926-5cc9e2049a81",
     "showTitle": false,
     "tableResultSettingsMap": {},
     "title": ""
    }
   },
   "outputs": [],
   "source": [
    "# Transformando para Spark\n",
    "spark_df = spark.createDataFrame(df)"
   ]
  },
  {
   "cell_type": "code",
   "execution_count": 0,
   "metadata": {
    "application/vnd.databricks.v1+cell": {
     "cellMetadata": {
      "byteLimit": 2048000,
      "rowLimit": 10000
     },
     "inputWidgets": {},
     "nuid": "b5de3da1-b5dd-41a6-9b40-f480928b02b8",
     "showTitle": false,
     "tableResultSettingsMap": {},
     "title": ""
    }
   },
   "outputs": [],
   "source": [
    "# Criando database caso nao exista\n",
    "spark.sql(\"create database if not exists postech_ml\")"
   ]
  },
  {
   "cell_type": "code",
   "execution_count": 0,
   "metadata": {
    "application/vnd.databricks.v1+cell": {
     "cellMetadata": {
      "byteLimit": 2048000,
      "rowLimit": 10000
     },
     "inputWidgets": {},
     "nuid": "77c68b6c-92b8-4aea-8d5d-2bff7b4a68a1",
     "showTitle": false,
     "tableResultSettingsMap": {},
     "title": ""
    }
   },
   "outputs": [],
   "source": [
    "# Escrevendo Tabela\n",
    "spark_df.write.mode(\"overwrite\").saveAsTable(output_table)"
   ]
  }
 ],
 "metadata": {
  "application/vnd.databricks.v1+notebook": {
   "computePreferences": null,
   "dashboards": [],
   "environmentMetadata": null,
   "inputWidgetPreferences": null,
   "language": "python",
   "notebookMetadata": {
    "mostRecentlyExecutedCommandWithImplicitDF": {
     "commandId": 5543357620047310,
     "dataframes": [
      "_sqldf"
     ]
    },
    "pythonIndentUnit": 4
   },
   "notebookName": "clean_source_table",
   "widgets": {
    "input_table": {
     "currentValue": "postech_ml.car_features_raw",
     "nuid": "19fc54d3-b6f4-4aad-a743-dffb22b53fc7",
     "typedWidgetInfo": {
      "autoCreated": false,
      "defaultValue": "postech_ml.car_features_raw",
      "label": "Input Table",
      "name": "input_table",
      "options": {
       "widgetDisplayType": "Text",
       "validationRegex": null
      },
      "parameterDataType": "String"
     },
     "widgetInfo": {
      "widgetType": "text",
      "defaultValue": "postech_ml.car_features_raw",
      "label": "Input Table",
      "name": "input_table",
      "options": {
       "widgetType": "text",
       "autoCreated": null,
       "validationRegex": null
      }
     }
    },
    "output_table": {
     "currentValue": "postech_ml.car_features",
     "nuid": "9241b0ab-d487-4655-9c2c-350fdc1d32dd",
     "typedWidgetInfo": {
      "autoCreated": false,
      "defaultValue": "postech_ml.car_features",
      "label": "Output Table",
      "name": "output_table",
      "options": {
       "widgetDisplayType": "Text",
       "validationRegex": null
      },
      "parameterDataType": "String"
     },
     "widgetInfo": {
      "widgetType": "text",
      "defaultValue": "postech_ml.car_features",
      "label": "Output Table",
      "name": "output_table",
      "options": {
       "widgetType": "text",
       "autoCreated": null,
       "validationRegex": null
      }
     }
    }
   }
  },
  "language_info": {
   "name": "python"
  }
 },
 "nbformat": 4,
 "nbformat_minor": 0
}
