{
 "cells": [
  {
   "cell_type": "code",
   "execution_count": 13,
   "id": "94a576a3",
   "metadata": {},
   "outputs": [],
   "source": [
    "import pandas as pd"
   ]
  },
  {
   "cell_type": "code",
   "execution_count": 14,
   "id": "7e765163",
   "metadata": {},
   "outputs": [
    {
     "data": {
      "text/plain": [
       "(7385, 12)"
      ]
     },
     "execution_count": 14,
     "metadata": {},
     "output_type": "execute_result"
    }
   ],
   "source": [
    "caminho = \"dados/CO2_Emissions_Canada.csv\"\n",
    "df_raw = pd.read_csv(caminho)\n",
    "df_raw.shape"
   ]
  },
  {
   "cell_type": "code",
   "execution_count": 15,
   "id": "5896443b",
   "metadata": {},
   "outputs": [
    {
     "name": "stdout",
     "output_type": "stream",
     "text": [
      "Dataset após remover duplicatas: (6282, 12)\n"
     ]
    }
   ],
   "source": [
    "# Remover duplicados\n",
    "df_trat = df_raw.drop_duplicates()\n",
    "print(f\"Dataset após remover duplicatas: {df.shape}\")\n",
    "\n",
    "# Remover coluna redundante\n",
    "base = df_trat.drop(columns=['Fuel Consumption Comb (mpg)'])"
   ]
  },
  {
   "cell_type": "code",
   "execution_count": 16,
   "id": "fa1adf71",
   "metadata": {},
   "outputs": [],
   "source": [
    "# Separar target e features\n",
    "target = 'CO2 Emissions(g/km)'"
   ]
  },
  {
   "cell_type": "code",
   "execution_count": 17,
   "id": "e466f8df",
   "metadata": {},
   "outputs": [],
   "source": [
    "# Features numéricas\n",
    "num_features = [\n",
    "    'Engine Size(L)',\n",
    "    'Cylinders',\n",
    "    'Fuel Consumption City (L/100 km)',\n",
    "    'Fuel Consumption Hwy (L/100 km)',\n",
    "    'Fuel Consumption Comb (L/100 km)'\n",
    "]\n",
    "\n",
    "# Features categóricas\n",
    "cat_features = [\n",
    "    'Make',\n",
    "    'Model',\n",
    "    'Vehicle Class',\n",
    "    'Transmission',\n",
    "    'Fuel Type'\n",
    "]\n",
    "\n",
    "features = num_features + cat_features"
   ]
  },
  {
   "cell_type": "code",
   "execution_count": 18,
   "id": "aed12b73",
   "metadata": {},
   "outputs": [],
   "source": [
    "X = base[features]\n",
    "y = base[target]"
   ]
  },
  {
   "cell_type": "code",
   "execution_count": 19,
   "id": "d6a35a1c",
   "metadata": {},
   "outputs": [
    {
     "name": "stdout",
     "output_type": "stream",
     "text": [
      "Features (X):\n",
      "   Engine Size(L)  Cylinders  Fuel Consumption City (L/100 km)  \\\n",
      "0             2.0          4                               9.9   \n",
      "1             2.4          4                              11.2   \n",
      "2             1.5          4                               6.0   \n",
      "3             3.5          6                              12.7   \n",
      "4             3.5          6                              12.1   \n",
      "\n",
      "   Fuel Consumption Hwy (L/100 km)  Fuel Consumption Comb (L/100 km)   Make  \\\n",
      "0                              6.7                               8.5  ACURA   \n",
      "1                              7.7                               9.6  ACURA   \n",
      "2                              5.8                               5.9  ACURA   \n",
      "3                              9.1                              11.1  ACURA   \n",
      "4                              8.7                              10.6  ACURA   \n",
      "\n",
      "        Model Vehicle Class Transmission Fuel Type  \n",
      "0         ILX       COMPACT          AS5         Z  \n",
      "1         ILX       COMPACT           M6         Z  \n",
      "2  ILX HYBRID       COMPACT          AV7         Z  \n",
      "3     MDX 4WD   SUV - SMALL          AS6         Z  \n",
      "4     RDX AWD   SUV - SMALL          AS6         Z  \n"
     ]
    }
   ],
   "source": [
    "print(\"Features (X):\")\n",
    "print(X.head())"
   ]
  },
  {
   "cell_type": "code",
   "execution_count": 20,
   "id": "a782bcc0",
   "metadata": {},
   "outputs": [
    {
     "name": "stdout",
     "output_type": "stream",
     "text": [
      "\n",
      "Target (y):\n",
      "0    196\n",
      "1    221\n",
      "2    136\n",
      "3    255\n",
      "4    244\n",
      "Name: CO2 Emissions(g/km), dtype: int64\n"
     ]
    }
   ],
   "source": [
    "print(\"\\nTarget (y):\")\n",
    "print(y.head())"
   ]
  },
  {
   "cell_type": "markdown",
   "id": "2be3c019",
   "metadata": {},
   "source": [
    "### Transformar categóricas em numéricas (One-Hot Encoding ou Label Encoding)\n",
    "### Padronizar ou normalizar features numéricas\n",
    "### Dividir dataset em treino/teste\n",
    "### Treinar o modelo de regressão"
   ]
  }
 ],
 "metadata": {
  "kernelspec": {
   "display_name": "venv (3.13.3)",
   "language": "python",
   "name": "python3"
  },
  "language_info": {
   "codemirror_mode": {
    "name": "ipython",
    "version": 3
   },
   "file_extension": ".py",
   "mimetype": "text/x-python",
   "name": "python",
   "nbconvert_exporter": "python",
   "pygments_lexer": "ipython3",
   "version": "3.13.3"
  }
 },
 "nbformat": 4,
 "nbformat_minor": 5
}
